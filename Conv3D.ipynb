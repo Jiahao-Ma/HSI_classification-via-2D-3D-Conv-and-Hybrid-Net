{
  "nbformat": 4,
  "nbformat_minor": 0,
  "metadata": {
    "colab": {
      "name": "Conv3D.ipynb",
      "provenance": [],
      "collapsed_sections": [],
      "machine_shape": "hm"
    },
    "kernelspec": {
      "name": "python3",
      "display_name": "Python 3"
    },
    "accelerator": "GPU"
  },
  "cells": [
    {
      "cell_type": "code",
      "metadata": {
        "id": "Ftb9hI9fN8d1",
        "colab_type": "code",
        "outputId": "67a18c5e-697b-4ea1-836c-3f97328816c6",
        "colab": {
          "base_uri": "https://localhost:8080/",
          "height": 53
        }
      },
      "source": [
        "import numpy as np\n",
        "from sklearn.decomposition import PCA\n",
        "from sklearn.preprocessing import StandardScaler\n",
        "import pandas as pd\n",
        "data = np.load(r\"/content/drive/My Drive/Marko/Model_learning/GAN/HSI-Classification-GAN/dataset/ds.npy\")\n",
        "gt = np.load(r\"/content/drive/My Drive/Marko/Model_learning/GAN/HSI-Classification-GAN/dataset/gt.npy\")\n",
        "print(data.shape)\n",
        "print(gt.shape)"
      ],
      "execution_count": 0,
      "outputs": [
        {
          "output_type": "stream",
          "text": [
            "(145, 145, 200)\n",
            "(145, 145)\n"
          ],
          "name": "stdout"
        }
      ]
    },
    {
      "cell_type": "code",
      "metadata": {
        "id": "k4Ebaa3JOFRL",
        "colab_type": "code",
        "outputId": "d96070a4-5c74-4fe2-91ac-d0cbe8ff5d26",
        "colab": {
          "base_uri": "https://localhost:8080/",
          "height": 89
        }
      },
      "source": [
        "H = data.shape[0]\n",
        "W = data.shape[1]\n",
        "#归一化\n",
        "scaler = StandardScaler()\n",
        "voxel = scaler.fit_transform(data.reshape(-1, data.shape[-1]))\n",
        "print(voxel.shape)\n",
        "#PCA \n",
        "pca = PCA(n_components=30)\n",
        "principalComponents = pca.fit_transform(voxel)\n",
        "print(principalComponents.shape)\n",
        "# principalDF = pd.DataFrame(data=principalComponents, columns=[\"pc%d\"%x for x in range(30)])\n",
        "# print(principalDF)\n",
        "fullDataX = principalComponents.reshape(H,W,30)\n",
        "fullDataY = gt\n",
        "print(\"fullDataX:\",fullDataX.shape)\n",
        "print(\"fullDataY:\",gt.shape)"
      ],
      "execution_count": 0,
      "outputs": [
        {
          "output_type": "stream",
          "text": [
            "(21025, 200)\n",
            "(21025, 30)\n",
            "fullDataX: (145, 145, 30)\n",
            "fullDataY: (145, 145)\n"
          ],
          "name": "stdout"
        }
      ]
    },
    {
      "cell_type": "code",
      "metadata": {
        "id": "DJDzccFDOKPf",
        "colab_type": "code",
        "outputId": "b43b9935-141f-4aa0-cbfa-3adccd1ef8a4",
        "colab": {
          "base_uri": "https://localhost:8080/",
          "height": 89
        }
      },
      "source": [
        "import cv2\n",
        "from skimage.util import view_as_windows\n",
        "np.random.seed(666)\n",
        "print(fullDataX.shape)\n",
        "#(145,145,30) -> (176,176,30)\n",
        "paddedDatax = cv2.copyMakeBorder(fullDataX, 16, 15, 16, 15, cv2.BORDER_CONSTANT, value=0)\n",
        "print(paddedDatax.shape)\n",
        "#(176,176,30) -> (145,145,1,32,32,30) 176-32+1=145 || 3-3+1=1\n",
        "X_train = view_as_windows(paddedDatax, (32, 32, 30), step=1).reshape(-1,32,32,30)\n",
        "#(145,145,1,32,32,30) -> (21025,32,32,03)\n",
        "y_train = fullDataY.reshape(-1,)\n",
        "#shuffle\n",
        "p = np.random.permutation(len(X_train))\n",
        "X_train=X_train[p]\n",
        "y_train=y_train[p]\n",
        "print(X_train.shape)\n",
        "print(y_train.shape)"
      ],
      "execution_count": 0,
      "outputs": [
        {
          "output_type": "stream",
          "text": [
            "(145, 145, 30)\n",
            "(176, 176, 30)\n",
            "(21025, 32, 32, 30)\n",
            "(21025,)\n"
          ],
          "name": "stdout"
        }
      ]
    },
    {
      "cell_type": "code",
      "metadata": {
        "id": "n0x7ONAVO837",
        "colab_type": "code",
        "outputId": "2c2e45e6-b048-4ee1-9c8d-c3c491d49152",
        "colab": {
          "base_uri": "https://localhost:8080/",
          "height": 53
        }
      },
      "source": [
        "X_train = X_train[y_train>0,:,:,:]\n",
        "y_train = y_train[y_train>0]\n",
        "y_train = y_train - 1 #1-17 -> 0-16\n",
        "print(X_train.shape)\n",
        "print(y_train.shape)\n",
        "data = X_train\n",
        "label = y_train"
      ],
      "execution_count": 0,
      "outputs": [
        {
          "output_type": "stream",
          "text": [
            "(10249, 32, 32, 30)\n",
            "(10249,)\n"
          ],
          "name": "stdout"
        }
      ]
    },
    {
      "cell_type": "code",
      "metadata": {
        "id": "-YU8Tc7rPEzf",
        "colab_type": "code",
        "outputId": "bd76cd6b-83f1-45a5-9d7f-2a0bd0101803",
        "colab": {
          "base_uri": "https://localhost:8080/",
          "height": 71
        }
      },
      "source": [
        "from sklearn.model_selection import train_test_split\n",
        "import tensorflow as tf\n",
        "\n",
        "tf.random.set_seed(666)\n",
        "batch_sz=128\n",
        "X, test_data, Y, test_label = train_test_split(data, label, test_size=0.1, random_state=666)\n",
        "train_data, valid_data, train_label, valid_label = train_test_split(X, Y, test_size=0.2, random_state=666)\n",
        "\n",
        "print(train_data.shape, train_label.shape)\n",
        "print(valid_data.shape, valid_label.shape)\n",
        "print(test_data.shape, test_label.shape)\n"
      ],
      "execution_count": 0,
      "outputs": [
        {
          "output_type": "stream",
          "text": [
            "(7379, 32, 32, 30) (7379,)\n",
            "(1845, 32, 32, 30) (1845,)\n",
            "(1025, 32, 32, 30) (1025,)\n"
          ],
          "name": "stdout"
        }
      ]
    },
    {
      "cell_type": "markdown",
      "metadata": {
        "id": "wksVO6ZVPspu",
        "colab_type": "text"
      },
      "source": [
        "##Model_define"
      ]
    },
    {
      "cell_type": "code",
      "metadata": {
        "id": "dSnFM0DAPGuz",
        "colab_type": "code",
        "colab": {}
      },
      "source": [
        "from tensorflow.keras.layers import Dense, Conv3D, Conv2D, Flatten, Reshape, Dropout, Input, Activation, BatchNormalization, MaxPool3D\n",
        "from tensorflow.keras.models import Model\n",
        "import tensorflow as tf\n",
        "#input_layer = (32,32,30,1)\n",
        "input_layer = Input(shape=(32,32,30,1))\n",
        "#Conv3D_layer\n",
        "\n",
        "Conv1 = Conv3D(filters=16, kernel_size=(3,3,3), strides=(2,2,2))(input_layer)\n",
        "Bn1 = BatchNormalization()(Conv1)\n",
        "LR1 = tf.nn.leaky_relu(Bn1,alpha=0.2)\n",
        "Pool1 = MaxPool3D(pool_size=(2,2,2))(LR1)\n",
        "\n",
        "Conv2 = Conv3D(filters=32, kernel_size=(3,3,3), strides=(2,2,2))(Pool1)\n",
        "Bn2 = BatchNormalization()(Conv2)\n",
        "LR2 = tf.nn.leaky_relu(Bn2,alpha=0.2)\n",
        "Pool2 = MaxPool3D(pool_size=(2,2,2))(LR2)\n",
        "\n",
        "flatten_layer = Flatten()(Pool2)\n",
        "\n",
        "fc = Dense(units=16, activation=\"softmax\")(flatten_layer)\n",
        "\n",
        "Conv3D_net = Model(input_layer, fc)"
      ],
      "execution_count": 0,
      "outputs": []
    },
    {
      "cell_type": "code",
      "metadata": {
        "id": "SSwxh06XPsX8",
        "colab_type": "code",
        "outputId": "92213546-7af5-40f4-b905-5fa869e8de15",
        "colab": {
          "base_uri": "https://localhost:8080/",
          "height": 557
        }
      },
      "source": [
        "Conv3D_net.summary()"
      ],
      "execution_count": 0,
      "outputs": [
        {
          "output_type": "stream",
          "text": [
            "Model: \"model\"\n",
            "_________________________________________________________________\n",
            "Layer (type)                 Output Shape              Param #   \n",
            "=================================================================\n",
            "input_1 (InputLayer)         [(None, 32, 32, 30, 1)]   0         \n",
            "_________________________________________________________________\n",
            "conv3d (Conv3D)              (None, 15, 15, 14, 16)    448       \n",
            "_________________________________________________________________\n",
            "batch_normalization (BatchNo (None, 15, 15, 14, 16)    64        \n",
            "_________________________________________________________________\n",
            "tf_op_layer_LeakyRelu (Tenso [(None, 15, 15, 14, 16)]  0         \n",
            "_________________________________________________________________\n",
            "max_pooling3d (MaxPooling3D) (None, 7, 7, 7, 16)       0         \n",
            "_________________________________________________________________\n",
            "conv3d_1 (Conv3D)            (None, 3, 3, 3, 32)       13856     \n",
            "_________________________________________________________________\n",
            "batch_normalization_1 (Batch (None, 3, 3, 3, 32)       128       \n",
            "_________________________________________________________________\n",
            "tf_op_layer_LeakyRelu_1 (Ten [(None, 3, 3, 3, 32)]     0         \n",
            "_________________________________________________________________\n",
            "max_pooling3d_1 (MaxPooling3 (None, 1, 1, 1, 32)       0         \n",
            "_________________________________________________________________\n",
            "flatten (Flatten)            (None, 32)                0         \n",
            "_________________________________________________________________\n",
            "dense (Dense)                (None, 16)                528       \n",
            "=================================================================\n",
            "Total params: 15,024\n",
            "Trainable params: 14,928\n",
            "Non-trainable params: 96\n",
            "_________________________________________________________________\n"
          ],
          "name": "stdout"
        }
      ]
    },
    {
      "cell_type": "code",
      "metadata": {
        "id": "hCZq3AnycmaD",
        "colab_type": "code",
        "colab": {}
      },
      "source": [
        "from tensorflow.keras import optimizers\n",
        "from tensorflow.keras.callbacks import ModelCheckpoint, EarlyStopping\n",
        "import os \n",
        "path = r\"/content/drive/My Drive/Marko/Model_learning/GAN/HSI-Classification-GAN/EI_PAPER/weights_and_models\"\n",
        "save = os.path.join(path,\"best_Conv3D_net.h5\")\n",
        "\n",
        "adam = optimizers.Adam(learning_rate=0.0005, decay=1e-6)\n",
        "checkpoint = ModelCheckpoint(save, monitor='acc', verbose=0, save_best_only=True, mode='max')\n",
        "earlystopping = EarlyStopping(patience=10, min_delta=1e-4)\n",
        "callbacks_list = [checkpoint,earlystopping]\n",
        "Conv3D_net.compile(loss='sparse_categorical_crossentropy', optimizer=adam, metrics=['accuracy'])"
      ],
      "execution_count": 0,
      "outputs": []
    },
    {
      "cell_type": "code",
      "metadata": {
        "id": "G9ArE4oxc_m1",
        "colab_type": "code",
        "outputId": "bcfa0b26-e83f-4c1e-8539-cd541ced541e",
        "colab": {
          "base_uri": "https://localhost:8080/",
          "height": 1000
        }
      },
      "source": [
        "\n",
        "os.environ[\"TF_CPP_MIN_LOG_LEVEL\"]=\"3\"\n",
        "history = Conv3D_net.fit(train_data, train_label,\n",
        "              epochs=100,\n",
        "              batch_size=batch_sz,\n",
        "              validation_data=(valid_data, valid_label),\n",
        "              callbacks=callbacks_list)\n"
      ],
      "execution_count": 0,
      "outputs": [
        {
          "output_type": "stream",
          "text": [
            "Epoch 1/100\n",
            "57/58 [============================>.] - ETA: 0s - loss: 1.8786 - accuracy: 0.4494WARNING:tensorflow:Can save best model only with acc available, skipping.\n",
            "58/58 [==============================] - 1s 20ms/step - loss: 1.8698 - accuracy: 0.4522 - val_loss: 1.5912 - val_accuracy: 0.5046\n",
            "Epoch 2/100\n",
            "57/58 [============================>.] - ETA: 0s - loss: 0.9997 - accuracy: 0.7272WARNING:tensorflow:Can save best model only with acc available, skipping.\n",
            "58/58 [==============================] - 1s 17ms/step - loss: 1.0011 - accuracy: 0.7268 - val_loss: 1.0815 - val_accuracy: 0.7328\n",
            "Epoch 3/100\n",
            "57/58 [============================>.] - ETA: 0s - loss: 0.6760 - accuracy: 0.8305WARNING:tensorflow:Can save best model only with acc available, skipping.\n",
            "58/58 [==============================] - 1s 17ms/step - loss: 0.6741 - accuracy: 0.8306 - val_loss: 0.7792 - val_accuracy: 0.8038\n",
            "Epoch 4/100\n",
            "57/58 [============================>.] - ETA: 0s - loss: 0.4871 - accuracy: 0.8829WARNING:tensorflow:Can save best model only with acc available, skipping.\n",
            "58/58 [==============================] - 1s 17ms/step - loss: 0.4870 - accuracy: 0.8836 - val_loss: 0.5641 - val_accuracy: 0.8650\n",
            "Epoch 5/100\n",
            "57/58 [============================>.] - ETA: 0s - loss: 0.3650 - accuracy: 0.9206WARNING:tensorflow:Can save best model only with acc available, skipping.\n",
            "58/58 [==============================] - 1s 18ms/step - loss: 0.3643 - accuracy: 0.9207 - val_loss: 0.4150 - val_accuracy: 0.9051\n",
            "Epoch 6/100\n",
            "57/58 [============================>.] - ETA: 0s - loss: 0.2814 - accuracy: 0.9456WARNING:tensorflow:Can save best model only with acc available, skipping.\n",
            "58/58 [==============================] - 1s 18ms/step - loss: 0.2814 - accuracy: 0.9455 - val_loss: 0.3318 - val_accuracy: 0.9274\n",
            "Epoch 7/100\n",
            "57/58 [============================>.] - ETA: 0s - loss: 0.2204 - accuracy: 0.9616WARNING:tensorflow:Can save best model only with acc available, skipping.\n",
            "58/58 [==============================] - 1s 17ms/step - loss: 0.2200 - accuracy: 0.9615 - val_loss: 0.2644 - val_accuracy: 0.9491\n",
            "Epoch 8/100\n",
            "57/58 [============================>.] - ETA: 0s - loss: 0.1787 - accuracy: 0.9722WARNING:tensorflow:Can save best model only with acc available, skipping.\n",
            "58/58 [==============================] - 1s 18ms/step - loss: 0.1787 - accuracy: 0.9722 - val_loss: 0.2287 - val_accuracy: 0.9539\n",
            "Epoch 9/100\n",
            "57/58 [============================>.] - ETA: 0s - loss: 0.1462 - accuracy: 0.9804WARNING:tensorflow:Can save best model only with acc available, skipping.\n",
            "58/58 [==============================] - 1s 18ms/step - loss: 0.1462 - accuracy: 0.9805 - val_loss: 0.1922 - val_accuracy: 0.9675\n",
            "Epoch 10/100\n",
            "57/58 [============================>.] - ETA: 0s - loss: 0.1231 - accuracy: 0.9840WARNING:tensorflow:Can save best model only with acc available, skipping.\n",
            "58/58 [==============================] - 1s 18ms/step - loss: 0.1229 - accuracy: 0.9840 - val_loss: 0.1730 - val_accuracy: 0.9621\n",
            "Epoch 11/100\n",
            "57/58 [============================>.] - ETA: 0s - loss: 0.1017 - accuracy: 0.9916WARNING:tensorflow:Can save best model only with acc available, skipping.\n",
            "58/58 [==============================] - 1s 17ms/step - loss: 0.1021 - accuracy: 0.9913 - val_loss: 0.1510 - val_accuracy: 0.9734\n",
            "Epoch 12/100\n",
            "57/58 [============================>.] - ETA: 0s - loss: 0.0884 - accuracy: 0.9919WARNING:tensorflow:Can save best model only with acc available, skipping.\n",
            "58/58 [==============================] - 1s 17ms/step - loss: 0.0889 - accuracy: 0.9916 - val_loss: 0.1417 - val_accuracy: 0.9707\n",
            "Epoch 13/100\n",
            "57/58 [============================>.] - ETA: 0s - loss: 0.0741 - accuracy: 0.9955WARNING:tensorflow:Can save best model only with acc available, skipping.\n",
            "58/58 [==============================] - 1s 17ms/step - loss: 0.0740 - accuracy: 0.9955 - val_loss: 0.1261 - val_accuracy: 0.9756\n",
            "Epoch 14/100\n",
            "57/58 [============================>.] - ETA: 0s - loss: 0.0644 - accuracy: 0.9967WARNING:tensorflow:Can save best model only with acc available, skipping.\n",
            "58/58 [==============================] - 1s 17ms/step - loss: 0.0644 - accuracy: 0.9967 - val_loss: 0.1123 - val_accuracy: 0.9816\n",
            "Epoch 15/100\n",
            "57/58 [============================>.] - ETA: 0s - loss: 0.0559 - accuracy: 0.9974WARNING:tensorflow:Can save best model only with acc available, skipping.\n",
            "58/58 [==============================] - 1s 16ms/step - loss: 0.0559 - accuracy: 0.9974 - val_loss: 0.1029 - val_accuracy: 0.9799\n",
            "Epoch 16/100\n",
            "57/58 [============================>.] - ETA: 0s - loss: 0.0494 - accuracy: 0.9978WARNING:tensorflow:Can save best model only with acc available, skipping.\n",
            "58/58 [==============================] - 1s 17ms/step - loss: 0.0494 - accuracy: 0.9978 - val_loss: 0.1015 - val_accuracy: 0.9821\n",
            "Epoch 17/100\n",
            "57/58 [============================>.] - ETA: 0s - loss: 0.0435 - accuracy: 0.9979WARNING:tensorflow:Can save best model only with acc available, skipping.\n",
            "58/58 [==============================] - 1s 17ms/step - loss: 0.0435 - accuracy: 0.9980 - val_loss: 0.0945 - val_accuracy: 0.9810\n",
            "Epoch 18/100\n",
            "57/58 [============================>.] - ETA: 0s - loss: 0.0392 - accuracy: 0.9992WARNING:tensorflow:Can save best model only with acc available, skipping.\n",
            "58/58 [==============================] - 1s 17ms/step - loss: 0.0391 - accuracy: 0.9992 - val_loss: 0.0881 - val_accuracy: 0.9837\n",
            "Epoch 19/100\n",
            "57/58 [============================>.] - ETA: 0s - loss: 0.0341 - accuracy: 0.9992WARNING:tensorflow:Can save best model only with acc available, skipping.\n",
            "58/58 [==============================] - 1s 17ms/step - loss: 0.0342 - accuracy: 0.9992 - val_loss: 0.0773 - val_accuracy: 0.9848\n",
            "Epoch 20/100\n",
            "57/58 [============================>.] - ETA: 0s - loss: 0.0305 - accuracy: 0.9990WARNING:tensorflow:Can save best model only with acc available, skipping.\n",
            "58/58 [==============================] - 1s 17ms/step - loss: 0.0304 - accuracy: 0.9991 - val_loss: 0.0741 - val_accuracy: 0.9870\n",
            "Epoch 21/100\n",
            "57/58 [============================>.] - ETA: 0s - loss: 0.0273 - accuracy: 0.9996WARNING:tensorflow:Can save best model only with acc available, skipping.\n",
            "58/58 [==============================] - 1s 17ms/step - loss: 0.0275 - accuracy: 0.9996 - val_loss: 0.0674 - val_accuracy: 0.9875\n",
            "Epoch 22/100\n",
            "57/58 [============================>.] - ETA: 0s - loss: 0.0245 - accuracy: 0.9997WARNING:tensorflow:Can save best model only with acc available, skipping.\n",
            "58/58 [==============================] - 1s 17ms/step - loss: 0.0246 - accuracy: 0.9997 - val_loss: 0.0742 - val_accuracy: 0.9837\n",
            "Epoch 23/100\n",
            "57/58 [============================>.] - ETA: 0s - loss: 0.0226 - accuracy: 0.9997WARNING:tensorflow:Can save best model only with acc available, skipping.\n",
            "58/58 [==============================] - 1s 17ms/step - loss: 0.0225 - accuracy: 0.9997 - val_loss: 0.0595 - val_accuracy: 0.9881\n",
            "Epoch 24/100\n",
            "57/58 [============================>.] - ETA: 0s - loss: 0.0201 - accuracy: 0.9999WARNING:tensorflow:Can save best model only with acc available, skipping.\n",
            "58/58 [==============================] - 1s 17ms/step - loss: 0.0202 - accuracy: 0.9999 - val_loss: 0.0588 - val_accuracy: 0.9892\n",
            "Epoch 25/100\n",
            "57/58 [============================>.] - ETA: 0s - loss: 0.0184 - accuracy: 0.9999WARNING:tensorflow:Can save best model only with acc available, skipping.\n",
            "58/58 [==============================] - 1s 17ms/step - loss: 0.0185 - accuracy: 0.9999 - val_loss: 0.0559 - val_accuracy: 0.9892\n",
            "Epoch 26/100\n",
            "57/58 [============================>.] - ETA: 0s - loss: 0.0169 - accuracy: 0.9999WARNING:tensorflow:Can save best model only with acc available, skipping.\n",
            "58/58 [==============================] - 1s 17ms/step - loss: 0.0169 - accuracy: 0.9999 - val_loss: 0.0551 - val_accuracy: 0.9859\n",
            "Epoch 27/100\n",
            "57/58 [============================>.] - ETA: 0s - loss: 0.0154 - accuracy: 0.9999WARNING:tensorflow:Can save best model only with acc available, skipping.\n",
            "58/58 [==============================] - 1s 17ms/step - loss: 0.0155 - accuracy: 0.9999 - val_loss: 0.0502 - val_accuracy: 0.9881\n",
            "Epoch 28/100\n",
            "57/58 [============================>.] - ETA: 0s - loss: 0.0143 - accuracy: 1.0000WARNING:tensorflow:Can save best model only with acc available, skipping.\n",
            "58/58 [==============================] - 1s 17ms/step - loss: 0.0143 - accuracy: 1.0000 - val_loss: 0.0478 - val_accuracy: 0.9892\n",
            "Epoch 29/100\n",
            "57/58 [============================>.] - ETA: 0s - loss: 0.0131 - accuracy: 1.0000WARNING:tensorflow:Can save best model only with acc available, skipping.\n",
            "58/58 [==============================] - 1s 17ms/step - loss: 0.0131 - accuracy: 1.0000 - val_loss: 0.0461 - val_accuracy: 0.9902\n",
            "Epoch 30/100\n",
            "57/58 [============================>.] - ETA: 0s - loss: 0.0121 - accuracy: 1.0000WARNING:tensorflow:Can save best model only with acc available, skipping.\n",
            "58/58 [==============================] - 1s 17ms/step - loss: 0.0121 - accuracy: 1.0000 - val_loss: 0.0458 - val_accuracy: 0.9897\n",
            "Epoch 31/100\n",
            "57/58 [============================>.] - ETA: 0s - loss: 0.0112 - accuracy: 1.0000WARNING:tensorflow:Can save best model only with acc available, skipping.\n",
            "58/58 [==============================] - 1s 17ms/step - loss: 0.0112 - accuracy: 1.0000 - val_loss: 0.0430 - val_accuracy: 0.9908\n",
            "Epoch 32/100\n",
            "57/58 [============================>.] - ETA: 0s - loss: 0.0104 - accuracy: 1.0000WARNING:tensorflow:Can save best model only with acc available, skipping.\n",
            "58/58 [==============================] - 1s 17ms/step - loss: 0.0104 - accuracy: 1.0000 - val_loss: 0.0446 - val_accuracy: 0.9908\n",
            "Epoch 33/100\n",
            "57/58 [============================>.] - ETA: 0s - loss: 0.0098 - accuracy: 1.0000WARNING:tensorflow:Can save best model only with acc available, skipping.\n",
            "58/58 [==============================] - 1s 17ms/step - loss: 0.0097 - accuracy: 1.0000 - val_loss: 0.0407 - val_accuracy: 0.9897\n",
            "Epoch 34/100\n",
            "57/58 [============================>.] - ETA: 0s - loss: 0.0091 - accuracy: 1.0000WARNING:tensorflow:Can save best model only with acc available, skipping.\n",
            "58/58 [==============================] - 1s 17ms/step - loss: 0.0091 - accuracy: 1.0000 - val_loss: 0.0404 - val_accuracy: 0.9886\n",
            "Epoch 35/100\n",
            "57/58 [============================>.] - ETA: 0s - loss: 0.0082 - accuracy: 1.0000WARNING:tensorflow:Can save best model only with acc available, skipping.\n",
            "58/58 [==============================] - 1s 17ms/step - loss: 0.0082 - accuracy: 1.0000 - val_loss: 0.0389 - val_accuracy: 0.9897\n",
            "Epoch 36/100\n",
            "57/58 [============================>.] - ETA: 0s - loss: 0.0078 - accuracy: 1.0000WARNING:tensorflow:Can save best model only with acc available, skipping.\n",
            "58/58 [==============================] - 1s 17ms/step - loss: 0.0078 - accuracy: 1.0000 - val_loss: 0.0362 - val_accuracy: 0.9897\n",
            "Epoch 37/100\n",
            "57/58 [============================>.] - ETA: 0s - loss: 0.0075 - accuracy: 1.0000WARNING:tensorflow:Can save best model only with acc available, skipping.\n",
            "58/58 [==============================] - 1s 17ms/step - loss: 0.0075 - accuracy: 1.0000 - val_loss: 0.0379 - val_accuracy: 0.9902\n",
            "Epoch 38/100\n",
            "57/58 [============================>.] - ETA: 0s - loss: 0.0070 - accuracy: 1.0000WARNING:tensorflow:Can save best model only with acc available, skipping.\n",
            "58/58 [==============================] - 1s 16ms/step - loss: 0.0070 - accuracy: 1.0000 - val_loss: 0.0356 - val_accuracy: 0.9897\n",
            "Epoch 39/100\n",
            "57/58 [============================>.] - ETA: 0s - loss: 0.0064 - accuracy: 1.0000WARNING:tensorflow:Can save best model only with acc available, skipping.\n",
            "58/58 [==============================] - 1s 17ms/step - loss: 0.0064 - accuracy: 1.0000 - val_loss: 0.0362 - val_accuracy: 0.9892\n",
            "Epoch 40/100\n",
            "57/58 [============================>.] - ETA: 0s - loss: 0.0060 - accuracy: 1.0000WARNING:tensorflow:Can save best model only with acc available, skipping.\n",
            "58/58 [==============================] - 1s 17ms/step - loss: 0.0060 - accuracy: 1.0000 - val_loss: 0.0344 - val_accuracy: 0.9902\n",
            "Epoch 41/100\n",
            "57/58 [============================>.] - ETA: 0s - loss: 0.0058 - accuracy: 1.0000WARNING:tensorflow:Can save best model only with acc available, skipping.\n",
            "58/58 [==============================] - 1s 17ms/step - loss: 0.0057 - accuracy: 1.0000 - val_loss: 0.0316 - val_accuracy: 0.9924\n",
            "Epoch 42/100\n",
            "57/58 [============================>.] - ETA: 0s - loss: 0.0054 - accuracy: 1.0000WARNING:tensorflow:Can save best model only with acc available, skipping.\n",
            "58/58 [==============================] - 1s 17ms/step - loss: 0.0054 - accuracy: 1.0000 - val_loss: 0.0311 - val_accuracy: 0.9902\n",
            "Epoch 43/100\n",
            "57/58 [============================>.] - ETA: 0s - loss: 0.0051 - accuracy: 1.0000WARNING:tensorflow:Can save best model only with acc available, skipping.\n",
            "58/58 [==============================] - 1s 17ms/step - loss: 0.0051 - accuracy: 1.0000 - val_loss: 0.0327 - val_accuracy: 0.9902\n",
            "Epoch 44/100\n",
            "57/58 [============================>.] - ETA: 0s - loss: 0.0048 - accuracy: 1.0000WARNING:tensorflow:Can save best model only with acc available, skipping.\n",
            "58/58 [==============================] - 1s 17ms/step - loss: 0.0048 - accuracy: 1.0000 - val_loss: 0.0305 - val_accuracy: 0.9919\n",
            "Epoch 45/100\n",
            "57/58 [============================>.] - ETA: 0s - loss: 0.0046 - accuracy: 1.0000WARNING:tensorflow:Can save best model only with acc available, skipping.\n",
            "58/58 [==============================] - 1s 17ms/step - loss: 0.0045 - accuracy: 1.0000 - val_loss: 0.0293 - val_accuracy: 0.9919\n",
            "Epoch 46/100\n",
            "57/58 [============================>.] - ETA: 0s - loss: 0.0043 - accuracy: 1.0000WARNING:tensorflow:Can save best model only with acc available, skipping.\n",
            "58/58 [==============================] - 1s 17ms/step - loss: 0.0043 - accuracy: 1.0000 - val_loss: 0.0301 - val_accuracy: 0.9908\n",
            "Epoch 47/100\n",
            "57/58 [============================>.] - ETA: 0s - loss: 0.0041 - accuracy: 1.0000WARNING:tensorflow:Can save best model only with acc available, skipping.\n",
            "58/58 [==============================] - 1s 17ms/step - loss: 0.0041 - accuracy: 1.0000 - val_loss: 0.0305 - val_accuracy: 0.9897\n",
            "Epoch 48/100\n",
            "57/58 [============================>.] - ETA: 0s - loss: 0.0038 - accuracy: 1.0000WARNING:tensorflow:Can save best model only with acc available, skipping.\n",
            "58/58 [==============================] - 1s 17ms/step - loss: 0.0038 - accuracy: 1.0000 - val_loss: 0.0284 - val_accuracy: 0.9913\n",
            "Epoch 49/100\n",
            "57/58 [============================>.] - ETA: 0s - loss: 0.0037 - accuracy: 1.0000WARNING:tensorflow:Can save best model only with acc available, skipping.\n",
            "58/58 [==============================] - 1s 16ms/step - loss: 0.0037 - accuracy: 1.0000 - val_loss: 0.0276 - val_accuracy: 0.9908\n",
            "Epoch 50/100\n",
            "57/58 [============================>.] - ETA: 0s - loss: 0.0035 - accuracy: 1.0000WARNING:tensorflow:Can save best model only with acc available, skipping.\n",
            "58/58 [==============================] - 1s 17ms/step - loss: 0.0035 - accuracy: 1.0000 - val_loss: 0.0263 - val_accuracy: 0.9913\n",
            "Epoch 51/100\n",
            "57/58 [============================>.] - ETA: 0s - loss: 0.0033 - accuracy: 1.0000WARNING:tensorflow:Can save best model only with acc available, skipping.\n",
            "58/58 [==============================] - 1s 17ms/step - loss: 0.0033 - accuracy: 1.0000 - val_loss: 0.0268 - val_accuracy: 0.9919\n",
            "Epoch 52/100\n",
            "57/58 [============================>.] - ETA: 0s - loss: 0.0032 - accuracy: 1.0000WARNING:tensorflow:Can save best model only with acc available, skipping.\n",
            "58/58 [==============================] - 1s 16ms/step - loss: 0.0032 - accuracy: 1.0000 - val_loss: 0.0267 - val_accuracy: 0.9924\n",
            "Epoch 53/100\n",
            "57/58 [============================>.] - ETA: 0s - loss: 0.0030 - accuracy: 1.0000WARNING:tensorflow:Can save best model only with acc available, skipping.\n",
            "58/58 [==============================] - 1s 17ms/step - loss: 0.0030 - accuracy: 1.0000 - val_loss: 0.0256 - val_accuracy: 0.9902\n",
            "Epoch 54/100\n",
            "57/58 [============================>.] - ETA: 0s - loss: 0.0029 - accuracy: 1.0000WARNING:tensorflow:Can save best model only with acc available, skipping.\n",
            "58/58 [==============================] - 1s 17ms/step - loss: 0.0029 - accuracy: 1.0000 - val_loss: 0.0264 - val_accuracy: 0.9913\n",
            "Epoch 55/100\n",
            "57/58 [============================>.] - ETA: 0s - loss: 0.0027 - accuracy: 1.0000WARNING:tensorflow:Can save best model only with acc available, skipping.\n",
            "58/58 [==============================] - 1s 17ms/step - loss: 0.0027 - accuracy: 1.0000 - val_loss: 0.0251 - val_accuracy: 0.9930\n",
            "Epoch 56/100\n",
            "57/58 [============================>.] - ETA: 0s - loss: 0.0026 - accuracy: 1.0000WARNING:tensorflow:Can save best model only with acc available, skipping.\n",
            "58/58 [==============================] - 1s 16ms/step - loss: 0.0026 - accuracy: 1.0000 - val_loss: 0.0243 - val_accuracy: 0.9913\n",
            "Epoch 57/100\n",
            "57/58 [============================>.] - ETA: 0s - loss: 0.0025 - accuracy: 1.0000WARNING:tensorflow:Can save best model only with acc available, skipping.\n",
            "58/58 [==============================] - 1s 17ms/step - loss: 0.0025 - accuracy: 1.0000 - val_loss: 0.0246 - val_accuracy: 0.9935\n",
            "Epoch 58/100\n",
            "57/58 [============================>.] - ETA: 0s - loss: 0.0023 - accuracy: 1.0000WARNING:tensorflow:Can save best model only with acc available, skipping.\n",
            "58/58 [==============================] - 1s 16ms/step - loss: 0.0023 - accuracy: 1.0000 - val_loss: 0.0241 - val_accuracy: 0.9908\n",
            "Epoch 59/100\n",
            "57/58 [============================>.] - ETA: 0s - loss: 0.0023 - accuracy: 1.0000WARNING:tensorflow:Can save best model only with acc available, skipping.\n",
            "58/58 [==============================] - 1s 16ms/step - loss: 0.0023 - accuracy: 1.0000 - val_loss: 0.0222 - val_accuracy: 0.9940\n",
            "Epoch 60/100\n",
            "57/58 [============================>.] - ETA: 0s - loss: 0.0022 - accuracy: 1.0000WARNING:tensorflow:Can save best model only with acc available, skipping.\n",
            "58/58 [==============================] - 1s 16ms/step - loss: 0.0022 - accuracy: 1.0000 - val_loss: 0.0231 - val_accuracy: 0.9930\n",
            "Epoch 61/100\n",
            "57/58 [============================>.] - ETA: 0s - loss: 0.0020 - accuracy: 1.0000WARNING:tensorflow:Can save best model only with acc available, skipping.\n",
            "58/58 [==============================] - 1s 16ms/step - loss: 0.0020 - accuracy: 1.0000 - val_loss: 0.0226 - val_accuracy: 0.9924\n",
            "Epoch 62/100\n",
            "57/58 [============================>.] - ETA: 0s - loss: 0.0019 - accuracy: 1.0000WARNING:tensorflow:Can save best model only with acc available, skipping.\n",
            "58/58 [==============================] - 1s 17ms/step - loss: 0.0019 - accuracy: 1.0000 - val_loss: 0.0227 - val_accuracy: 0.9913\n",
            "Epoch 63/100\n",
            "57/58 [============================>.] - ETA: 0s - loss: 0.0019 - accuracy: 1.0000WARNING:tensorflow:Can save best model only with acc available, skipping.\n",
            "58/58 [==============================] - 1s 16ms/step - loss: 0.0019 - accuracy: 1.0000 - val_loss: 0.0207 - val_accuracy: 0.9940\n",
            "Epoch 64/100\n",
            "57/58 [============================>.] - ETA: 0s - loss: 0.0018 - accuracy: 1.0000WARNING:tensorflow:Can save best model only with acc available, skipping.\n",
            "58/58 [==============================] - 1s 17ms/step - loss: 0.0018 - accuracy: 1.0000 - val_loss: 0.0207 - val_accuracy: 0.9951\n",
            "Epoch 65/100\n",
            "57/58 [============================>.] - ETA: 0s - loss: 0.0017 - accuracy: 1.0000WARNING:tensorflow:Can save best model only with acc available, skipping.\n",
            "58/58 [==============================] - 1s 16ms/step - loss: 0.0017 - accuracy: 1.0000 - val_loss: 0.0212 - val_accuracy: 0.9930\n",
            "Epoch 66/100\n",
            "57/58 [============================>.] - ETA: 0s - loss: 0.0017 - accuracy: 1.0000WARNING:tensorflow:Can save best model only with acc available, skipping.\n",
            "58/58 [==============================] - 1s 16ms/step - loss: 0.0016 - accuracy: 1.0000 - val_loss: 0.0203 - val_accuracy: 0.9935\n",
            "Epoch 67/100\n",
            "57/58 [============================>.] - ETA: 0s - loss: 0.0016 - accuracy: 1.0000WARNING:tensorflow:Can save best model only with acc available, skipping.\n",
            "58/58 [==============================] - 1s 16ms/step - loss: 0.0016 - accuracy: 1.0000 - val_loss: 0.0201 - val_accuracy: 0.9924\n",
            "Epoch 68/100\n",
            "57/58 [============================>.] - ETA: 0s - loss: 0.0015 - accuracy: 1.0000WARNING:tensorflow:Can save best model only with acc available, skipping.\n",
            "58/58 [==============================] - 1s 17ms/step - loss: 0.0015 - accuracy: 1.0000 - val_loss: 0.0213 - val_accuracy: 0.9919\n",
            "Epoch 69/100\n",
            "57/58 [============================>.] - ETA: 0s - loss: 0.0015 - accuracy: 1.0000WARNING:tensorflow:Can save best model only with acc available, skipping.\n",
            "58/58 [==============================] - 1s 17ms/step - loss: 0.0015 - accuracy: 1.0000 - val_loss: 0.0202 - val_accuracy: 0.9924\n",
            "Epoch 70/100\n",
            "57/58 [============================>.] - ETA: 0s - loss: 0.0014 - accuracy: 1.0000WARNING:tensorflow:Can save best model only with acc available, skipping.\n",
            "58/58 [==============================] - 1s 16ms/step - loss: 0.0014 - accuracy: 1.0000 - val_loss: 0.0202 - val_accuracy: 0.9930\n",
            "Epoch 71/100\n",
            "57/58 [============================>.] - ETA: 0s - loss: 0.0013 - accuracy: 1.0000WARNING:tensorflow:Can save best model only with acc available, skipping.\n",
            "58/58 [==============================] - 1s 17ms/step - loss: 0.0013 - accuracy: 1.0000 - val_loss: 0.0195 - val_accuracy: 0.9930\n",
            "Epoch 72/100\n",
            "57/58 [============================>.] - ETA: 0s - loss: 0.0013 - accuracy: 1.0000WARNING:tensorflow:Can save best model only with acc available, skipping.\n",
            "58/58 [==============================] - 1s 17ms/step - loss: 0.0013 - accuracy: 1.0000 - val_loss: 0.0196 - val_accuracy: 0.9940\n",
            "Epoch 73/100\n",
            "57/58 [============================>.] - ETA: 0s - loss: 0.0012 - accuracy: 1.0000WARNING:tensorflow:Can save best model only with acc available, skipping.\n",
            "58/58 [==============================] - 1s 17ms/step - loss: 0.0012 - accuracy: 1.0000 - val_loss: 0.0187 - val_accuracy: 0.9924\n",
            "Epoch 74/100\n",
            "57/58 [============================>.] - ETA: 0s - loss: 0.0012 - accuracy: 1.0000WARNING:tensorflow:Can save best model only with acc available, skipping.\n",
            "58/58 [==============================] - 1s 16ms/step - loss: 0.0012 - accuracy: 1.0000 - val_loss: 0.0188 - val_accuracy: 0.9935\n",
            "Epoch 75/100\n",
            "57/58 [============================>.] - ETA: 0s - loss: 0.0011 - accuracy: 1.0000WARNING:tensorflow:Can save best model only with acc available, skipping.\n",
            "58/58 [==============================] - 1s 17ms/step - loss: 0.0011 - accuracy: 1.0000 - val_loss: 0.0187 - val_accuracy: 0.9940\n",
            "Epoch 76/100\n",
            "57/58 [============================>.] - ETA: 0s - loss: 0.0011 - accuracy: 1.0000WARNING:tensorflow:Can save best model only with acc available, skipping.\n",
            "58/58 [==============================] - 1s 17ms/step - loss: 0.0011 - accuracy: 1.0000 - val_loss: 0.0187 - val_accuracy: 0.9919\n",
            "Epoch 77/100\n",
            "57/58 [============================>.] - ETA: 0s - loss: 0.0011 - accuracy: 1.0000WARNING:tensorflow:Can save best model only with acc available, skipping.\n",
            "58/58 [==============================] - 1s 17ms/step - loss: 0.0011 - accuracy: 1.0000 - val_loss: 0.0191 - val_accuracy: 0.9919\n",
            "Epoch 78/100\n",
            "57/58 [============================>.] - ETA: 0s - loss: 0.0010 - accuracy: 1.0000    WARNING:tensorflow:Can save best model only with acc available, skipping.\n",
            "58/58 [==============================] - 1s 17ms/step - loss: 0.0010 - accuracy: 1.0000 - val_loss: 0.0178 - val_accuracy: 0.9940\n",
            "Epoch 79/100\n",
            "57/58 [============================>.] - ETA: 0s - loss: 9.6594e-04 - accuracy: 1.0000WARNING:tensorflow:Can save best model only with acc available, skipping.\n",
            "58/58 [==============================] - 1s 17ms/step - loss: 9.6596e-04 - accuracy: 1.0000 - val_loss: 0.0182 - val_accuracy: 0.9940\n",
            "Epoch 80/100\n",
            "57/58 [============================>.] - ETA: 0s - loss: 9.5563e-04 - accuracy: 1.0000WARNING:tensorflow:Can save best model only with acc available, skipping.\n",
            "58/58 [==============================] - 1s 17ms/step - loss: 9.5384e-04 - accuracy: 1.0000 - val_loss: 0.0178 - val_accuracy: 0.9946\n",
            "Epoch 81/100\n",
            "57/58 [============================>.] - ETA: 0s - loss: 8.9810e-04 - accuracy: 1.0000WARNING:tensorflow:Can save best model only with acc available, skipping.\n",
            "58/58 [==============================] - 1s 16ms/step - loss: 8.9942e-04 - accuracy: 1.0000 - val_loss: 0.0178 - val_accuracy: 0.9924\n",
            "Epoch 82/100\n",
            "57/58 [============================>.] - ETA: 0s - loss: 8.6450e-04 - accuracy: 1.0000WARNING:tensorflow:Can save best model only with acc available, skipping.\n",
            "58/58 [==============================] - 1s 16ms/step - loss: 8.6804e-04 - accuracy: 1.0000 - val_loss: 0.0174 - val_accuracy: 0.9935\n",
            "Epoch 83/100\n",
            "57/58 [============================>.] - ETA: 0s - loss: 8.4515e-04 - accuracy: 1.0000WARNING:tensorflow:Can save best model only with acc available, skipping.\n",
            "58/58 [==============================] - 1s 17ms/step - loss: 8.4039e-04 - accuracy: 1.0000 - val_loss: 0.0168 - val_accuracy: 0.9951\n",
            "Epoch 84/100\n",
            "57/58 [============================>.] - ETA: 0s - loss: 8.0582e-04 - accuracy: 1.0000WARNING:tensorflow:Can save best model only with acc available, skipping.\n",
            "58/58 [==============================] - 1s 17ms/step - loss: 8.0561e-04 - accuracy: 1.0000 - val_loss: 0.0173 - val_accuracy: 0.9930\n",
            "Epoch 85/100\n",
            "57/58 [============================>.] - ETA: 0s - loss: 7.7748e-04 - accuracy: 1.0000WARNING:tensorflow:Can save best model only with acc available, skipping.\n",
            "58/58 [==============================] - 1s 17ms/step - loss: 7.7293e-04 - accuracy: 1.0000 - val_loss: 0.0176 - val_accuracy: 0.9935\n",
            "Epoch 86/100\n",
            "57/58 [============================>.] - ETA: 0s - loss: 7.4338e-04 - accuracy: 1.0000WARNING:tensorflow:Can save best model only with acc available, skipping.\n",
            "58/58 [==============================] - 1s 16ms/step - loss: 7.4526e-04 - accuracy: 1.0000 - val_loss: 0.0172 - val_accuracy: 0.9935\n",
            "Epoch 87/100\n",
            "57/58 [============================>.] - ETA: 0s - loss: 7.1658e-04 - accuracy: 1.0000WARNING:tensorflow:Can save best model only with acc available, skipping.\n",
            "58/58 [==============================] - 1s 16ms/step - loss: 7.1721e-04 - accuracy: 1.0000 - val_loss: 0.0174 - val_accuracy: 0.9935\n",
            "Epoch 88/100\n",
            "57/58 [============================>.] - ETA: 0s - loss: 7.0199e-04 - accuracy: 1.0000WARNING:tensorflow:Can save best model only with acc available, skipping.\n",
            "58/58 [==============================] - 1s 17ms/step - loss: 7.0144e-04 - accuracy: 1.0000 - val_loss: 0.0162 - val_accuracy: 0.9930\n",
            "Epoch 89/100\n",
            "57/58 [============================>.] - ETA: 0s - loss: 6.6879e-04 - accuracy: 1.0000WARNING:tensorflow:Can save best model only with acc available, skipping.\n",
            "58/58 [==============================] - 1s 17ms/step - loss: 6.6748e-04 - accuracy: 1.0000 - val_loss: 0.0170 - val_accuracy: 0.9930\n",
            "Epoch 90/100\n",
            "57/58 [============================>.] - ETA: 0s - loss: 6.3219e-04 - accuracy: 1.0000WARNING:tensorflow:Can save best model only with acc available, skipping.\n",
            "58/58 [==============================] - 1s 17ms/step - loss: 6.3487e-04 - accuracy: 1.0000 - val_loss: 0.0170 - val_accuracy: 0.9935\n",
            "Epoch 91/100\n",
            "57/58 [============================>.] - ETA: 0s - loss: 6.1119e-04 - accuracy: 1.0000WARNING:tensorflow:Can save best model only with acc available, skipping.\n",
            "58/58 [==============================] - 1s 17ms/step - loss: 6.1124e-04 - accuracy: 1.0000 - val_loss: 0.0161 - val_accuracy: 0.9946\n",
            "Epoch 92/100\n",
            "57/58 [============================>.] - ETA: 0s - loss: 6.0761e-04 - accuracy: 1.0000WARNING:tensorflow:Can save best model only with acc available, skipping.\n",
            "58/58 [==============================] - 1s 16ms/step - loss: 6.0714e-04 - accuracy: 1.0000 - val_loss: 0.0155 - val_accuracy: 0.9935\n",
            "Epoch 93/100\n",
            "57/58 [============================>.] - ETA: 0s - loss: 5.7420e-04 - accuracy: 1.0000WARNING:tensorflow:Can save best model only with acc available, skipping.\n",
            "58/58 [==============================] - 1s 16ms/step - loss: 5.7590e-04 - accuracy: 1.0000 - val_loss: 0.0160 - val_accuracy: 0.9946\n",
            "Epoch 94/100\n",
            "57/58 [============================>.] - ETA: 0s - loss: 5.4811e-04 - accuracy: 1.0000WARNING:tensorflow:Can save best model only with acc available, skipping.\n",
            "58/58 [==============================] - 1s 16ms/step - loss: 5.5185e-04 - accuracy: 1.0000 - val_loss: 0.0164 - val_accuracy: 0.9935\n",
            "Epoch 95/100\n",
            "57/58 [============================>.] - ETA: 0s - loss: 5.3045e-04 - accuracy: 1.0000WARNING:tensorflow:Can save best model only with acc available, skipping.\n",
            "58/58 [==============================] - 1s 17ms/step - loss: 5.2979e-04 - accuracy: 1.0000 - val_loss: 0.0165 - val_accuracy: 0.9940\n",
            "Epoch 96/100\n",
            "57/58 [============================>.] - ETA: 0s - loss: 5.0650e-04 - accuracy: 1.0000WARNING:tensorflow:Can save best model only with acc available, skipping.\n",
            "58/58 [==============================] - 1s 16ms/step - loss: 5.1211e-04 - accuracy: 1.0000 - val_loss: 0.0159 - val_accuracy: 0.9940\n",
            "Epoch 97/100\n",
            "57/58 [============================>.] - ETA: 0s - loss: 4.9669e-04 - accuracy: 1.0000WARNING:tensorflow:Can save best model only with acc available, skipping.\n",
            "58/58 [==============================] - 1s 17ms/step - loss: 4.9656e-04 - accuracy: 1.0000 - val_loss: 0.0163 - val_accuracy: 0.9930\n",
            "Epoch 98/100\n",
            "57/58 [============================>.] - ETA: 0s - loss: 4.6937e-04 - accuracy: 1.0000WARNING:tensorflow:Can save best model only with acc available, skipping.\n",
            "58/58 [==============================] - 1s 17ms/step - loss: 4.7100e-04 - accuracy: 1.0000 - val_loss: 0.0156 - val_accuracy: 0.9951\n",
            "Epoch 99/100\n",
            "57/58 [============================>.] - ETA: 0s - loss: 4.7182e-04 - accuracy: 1.0000WARNING:tensorflow:Can save best model only with acc available, skipping.\n",
            "58/58 [==============================] - 1s 16ms/step - loss: 4.7239e-04 - accuracy: 1.0000 - val_loss: 0.0149 - val_accuracy: 0.9946\n",
            "Epoch 100/100\n",
            "58/58 [==============================] - ETA: 0s - loss: 4.4097e-04 - accuracy: 1.0000WARNING:tensorflow:Can save best model only with acc available, skipping.\n",
            "58/58 [==============================] - 1s 17ms/step - loss: 4.4097e-04 - accuracy: 1.0000 - val_loss: 0.0147 - val_accuracy: 0.9946\n"
          ],
          "name": "stdout"
        }
      ]
    },
    {
      "cell_type": "code",
      "metadata": {
        "id": "y1melfoqdQc1",
        "colab_type": "code",
        "outputId": "74c57100-cf16-4970-d20a-46265c649541",
        "colab": {
          "base_uri": "https://localhost:8080/",
          "height": 35
        }
      },
      "source": [
        "Conv3D_net.evaluate(test_data, test_label, verbose=0)"
      ],
      "execution_count": 0,
      "outputs": [
        {
          "output_type": "execute_result",
          "data": {
            "text/plain": [
              "[0.015058076940476894, 0.9960975646972656]"
            ]
          },
          "metadata": {
            "tags": []
          },
          "execution_count": 13
        }
      ]
    },
    {
      "cell_type": "code",
      "metadata": {
        "id": "jJc9LFmodCqk",
        "colab_type": "code",
        "colab": {}
      },
      "source": [
        "Conv3D_net.save_weights(save)"
      ],
      "execution_count": 0,
      "outputs": []
    },
    {
      "cell_type": "code",
      "metadata": {
        "id": "ckUzAQE1dSgU",
        "colab_type": "code",
        "outputId": "7c45ecba-cd5f-4d2b-ebb0-d44fbc6768fd",
        "colab": {
          "base_uri": "https://localhost:8080/",
          "height": 324
        }
      },
      "source": [
        "import matplotlib.pyplot as plt\n",
        "\n",
        "def plot_learning_curves(history,epoch,min_val,max_val):\n",
        "        pd.DataFrame(history.history).plot(figsize=(8,5))\n",
        "        plt.grid(True)\n",
        "        plt.axis([0, epoch, min_val, max_val])\n",
        "        plt.show()\n",
        "plot_learning_curves(history,100,0,1)"
      ],
      "execution_count": 0,
      "outputs": [
        {
          "output_type": "display_data",
          "data": {
            "image/png": "[encoded data removed]",
            "text/plain": [
              "<Figure size 576x360 with 1 Axes>"
            ]
          },
          "metadata": {
            "tags": [],
            "needs_background": "light"
          }
        }
      ]
    },
    {
      "cell_type": "code",
      "metadata": {
        "id": "wKXlqeZqds12",
        "colab_type": "code",
        "colab": {}
      },
      "source": [
        "width = 145\n",
        "height = 145\n",
        "PATCH_SIZE = 32\n",
        "numComponents = 30\n",
        "def Patch(data,height_index,width_index): #0-144 -> 32-176\n",
        "  height_slice = slice(height_index, height_index+PATCH_SIZE)\n",
        "  width_slice = slice(width_index, width_index+PATCH_SIZE)\n",
        "  patch = data[height_slice, width_slice, :] \n",
        "  return patch"
      ],
      "execution_count": 0,
      "outputs": []
    },
    {
      "cell_type": "code",
      "metadata": {
        "id": "rTM-T1Ewdudr",
        "colab_type": "code",
        "outputId": "4d5fe8c8-4f48-47cd-b60b-9ec4902cd483",
        "colab": {
          "base_uri": "https://localhost:8080/",
          "height": 35
        }
      },
      "source": [
        "# calculate the predicted image\n",
        "outputs = np.zeros((height,width))\n",
        "for i in range(height):\n",
        "    for j in range(width):\n",
        "        target = fullDataY[int(i), int(j)]\n",
        "        if target == 0 :\n",
        "            continue\n",
        "        else :\n",
        "            image_patch=Patch(paddedDatax,i,j)\n",
        "            #print (image_patch.shape)\n",
        "            X_test_image = image_patch.reshape(1,image_patch.shape[0],image_patch.shape[1],image_patch.shape[2],1).astype('float32')                                   \n",
        "            prediction = (Conv3D_net.predict(X_test_image))   \n",
        "            prediction = tf.argmax(prediction, axis=-1).numpy()                     \n",
        "            outputs[int(i)][int(j)] = prediction+1\n",
        "print(outputs.shape)"
      ],
      "execution_count": 0,
      "outputs": [
        {
          "output_type": "stream",
          "text": [
            "(145, 145)\n"
          ],
          "name": "stdout"
        }
      ]
    },
    {
      "cell_type": "code",
      "metadata": {
        "id": "N83dW5pReCSW",
        "colab_type": "code",
        "outputId": "99d72fd6-09ae-46a3-86fd-80804bc38bfb",
        "colab": {
          "base_uri": "https://localhost:8080/",
          "height": 125
        }
      },
      "source": [
        "!pip install spectral"
      ],
      "execution_count": 0,
      "outputs": [
        {
          "output_type": "stream",
          "text": [
            "Collecting spectral\n",
            "\u001b[?25l  Downloading https://files.pythonhosted.org/packages/f5/ff/f6e238a941ed55079526996fee315fbee5167aaa64de3e64980637ac8f38/spectral-0.21-py3-none-any.whl (187kB)\n",
            "\r\u001b[K     |█▊                              | 10kB 17.1MB/s eta 0:00:01\r\u001b[K     |███▌                            | 20kB 1.7MB/s eta 0:00:01\r\u001b[K     |█████▎                          | 30kB 2.2MB/s eta 0:00:01\r\u001b[K     |███████                         | 40kB 2.5MB/s eta 0:00:01\r\u001b[K     |████████▊                       | 51kB 2.0MB/s eta 0:00:01\r\u001b[K     |██████████▌                     | 61kB 2.3MB/s eta 0:00:01\r\u001b[K     |████████████▎                   | 71kB 2.5MB/s eta 0:00:01\r\u001b[K     |██████████████                  | 81kB 2.7MB/s eta 0:00:01\r\u001b[K     |███████████████▊                | 92kB 2.9MB/s eta 0:00:01\r\u001b[K     |█████████████████▌              | 102kB 2.8MB/s eta 0:00:01\r\u001b[K     |███████████████████▎            | 112kB 2.8MB/s eta 0:00:01\r\u001b[K     |█████████████████████           | 122kB 2.8MB/s eta 0:00:01\r\u001b[K     |██████████████████████▊         | 133kB 2.8MB/s eta 0:00:01\r\u001b[K     |████████████████████████▌       | 143kB 2.8MB/s eta 0:00:01\r\u001b[K     |██████████████████████████▎     | 153kB 2.8MB/s eta 0:00:01\r\u001b[K     |████████████████████████████    | 163kB 2.8MB/s eta 0:00:01\r\u001b[K     |█████████████████████████████▊  | 174kB 2.8MB/s eta 0:00:01\r\u001b[K     |███████████████████████████████▌| 184kB 2.8MB/s eta 0:00:01\r\u001b[K     |████████████████████████████████| 194kB 2.8MB/s \n",
            "\u001b[?25hRequirement already satisfied: numpy in /usr/local/lib/python3.6/dist-packages (from spectral) (1.18.4)\n",
            "Installing collected packages: spectral\n",
            "Successfully installed spectral-0.21\n"
          ],
          "name": "stdout"
        }
      ]
    },
    {
      "cell_type": "code",
      "metadata": {
        "id": "msbOf64KeD0M",
        "colab_type": "code",
        "outputId": "608bcec4-70f5-465f-de55-4def5cbf09d6",
        "colab": {
          "base_uri": "https://localhost:8080/",
          "height": 323
        }
      },
      "source": [
        "import spectral\n",
        "# Plot the Ground Truth Image\n",
        "ground_truth = spectral.imshow(classes = fullDataY,figsize =(5,5))"
      ],
      "execution_count": 0,
      "outputs": [
        {
          "output_type": "display_data",
          "data": {
            "image/png": "[encoded data removed]",
            "text/plain": [
              "<Figure size 360x360 with 1 Axes>"
            ]
          },
          "metadata": {
            "tags": [],
            "needs_background": "light"
          }
        }
      ]
    },
    {
      "cell_type": "code",
      "metadata": {
        "id": "-JB76gF6eFSX",
        "colab_type": "code",
        "outputId": "efec2b73-c49a-412d-dca7-66cc25ff15fd",
        "colab": {
          "base_uri": "https://localhost:8080/",
          "height": 323
        }
      },
      "source": [
        "# Plot the Predicted image\n",
        "predict_image = spectral.imshow(classes = outputs.astype(int),figsize =(5,5))"
      ],
      "execution_count": 0,
      "outputs": [
        {
          "output_type": "display_data",
          "data": {
            "image/png": "[encoded data removed]",
            "text/plain": [
              "<Figure size 360x360 with 1 Axes>"
            ]
          },
          "metadata": {
            "tags": [],
            "needs_background": "light"
          }
        }
      ]
    },
    {
      "cell_type": "code",
      "metadata": {
        "id": "RdeffqdEe4FE",
        "colab_type": "code",
        "colab": {}
      },
      "source": [
        ""
      ],
      "execution_count": 0,
      "outputs": []
    }
  ]
}